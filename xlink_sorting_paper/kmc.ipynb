{
 "cells": [
  {
   "cell_type": "code",
   "execution_count": 1,
   "metadata": {},
   "outputs": [
    {
     "name": "stdout",
     "output_type": "stream",
     "text": [
      "Populating the interactive namespace from numpy and matplotlib\n"
     ]
    }
   ],
   "source": [
    "%pylab inline\n",
    "import sys\n",
    "import os\n",
    "import matplotlib as mpl\n",
    "import matplotlib.pyplot as plt\n",
    "np.random.seed(1)\n",
    "font = {'family' : 'sans-serif',\n",
    "        'sans-serif': 'arial',\n",
    "        'weight' : 'normal',\n",
    "        'size'   : 9}\n",
    "\n",
    "mpl.rc('font', **font)\n",
    "mpl.rc('text', usetex=False)\n",
    "\n",
    "mpl.rcParams['pdf.fonttype'] = 42\n",
    "mpl.rcParams['ps.fonttype'] = 42"
   ]
  },
  {
   "cell_type": "code",
   "execution_count": 2,
   "metadata": {},
   "outputs": [],
   "source": [
    "def jackknife( data_array ):\n",
    "    from math import sqrt\n",
    "    \"\"\" Return the jackknife standard deviation given a numpy array of samples. The formula is given by\n",
    "        sig^2 = (N-1) sum_i ( ( mu_i - mu )^2 / N )\n",
    "        where mu = 1/N sum data(i)\n",
    "        and mu_i = 1/(N-1) ( ( sum_j data(j) ) - data(i) )\n",
    "        see e.g.: http://www.physics.utah.edu/~detar/phycs6730/handouts/jackknife/jackknife/\n",
    "    \"\"\"\n",
    "    N = len(data_array)\n",
    "    m = data_array.mean()\n",
    "    s = data_array.sum()\n",
    "    sum = 0\n",
    "    for i in range(N):\n",
    "        mi = ( s - data_array[i] ) / (N - 1.)\n",
    "        sum = sum + ( mi - m )**2 /float(N)\n",
    "\n",
    "    sig2 = (N-1.) * sum\n",
    "\n",
    "    return sqrt(sig2)\n",
    "\n",
    "#based on bootstrap hist in /home/glen842/tools/data_tools.py\n",
    "def bootstrap_ratio(data_list,nrepeats=300,nbins=2,bins_in=None,density=True):\n",
    "    import numpy as np\n",
    "    data_list = np.array(data_list)\n",
    "    if bins_in is None:\n",
    "        bins = nbins\n",
    "    else:\n",
    "        bins = bins_in\n",
    "    hist,bins_total = np.histogram(data_list,bins=bins,density=density)\n",
    "    nsamples = len(data_list)\n",
    "    hist_list = []\n",
    "    ratio_list = []\n",
    "    for i in range(nrepeats):\n",
    "        randidx = np.random.randint(0,nsamples,size=nsamples)\n",
    "        new_data = data_list[randidx]\n",
    "        hist,bins = np.histogram(new_data,density=density,bins=bins_total)\n",
    "        hist_list.append(hist)\n",
    "        #note, this is diff to same\n",
    "        ratio_list.append(hist[1]/hist[0])\n",
    "    hist_array = np.array(ratio_list)\n",
    "    hist_mean = np.mean(hist_array,axis=0)\n",
    "    hist_std = np.std(hist_array,axis=0)\n",
    "    return ba(bins_total), hist_mean, hist_std, bins_total"
   ]
  },
  {
   "cell_type": "code",
   "execution_count": 3,
   "metadata": {},
   "outputs": [],
   "source": [
    "#define variables \n",
    "outdir = None\n",
    "if outdir is not None:\n",
    "    !mkdir -p {outdir}\n",
    "\n",
    "#nm\n",
    "site_width = 35.\n",
    "#actinin -fascin\n",
    "dxl = 37.-8."
   ]
  },
  {
   "cell_type": "code",
   "execution_count": 4,
   "metadata": {},
   "outputs": [],
   "source": [
    "def f(x,Lp):\n",
    "    Lp_sites = Lp*1e3/site_width\n",
    "    return Lp_sites/x*(np.arcsin((dxl/site_width)/x)**2)\n",
    "\n",
    "#A is the equilibrium ratio, kother/ksame\n",
    "def ratio_at_dist(x,onleft,kon1,kon2,Lp):\n",
    "    #0 on left\n",
    "    #1 on left\n",
    "    prefactor = (onleft==1)*kon2/kon1 + (onleft==2)*kon1/kon2\n",
    "    return prefactor*exp(-f(x,Lp))"
   ]
  },
  {
   "cell_type": "code",
   "execution_count": 5,
   "metadata": {},
   "outputs": [
    {
     "data": {
      "image/png": "[encoded data removed]",
      "text/plain": [
       "<Figure size 115.2x108 with 1 Axes>"
      ]
     },
     "metadata": {
      "needs_background": "light"
     },
     "output_type": "display_data"
    }
   ],
   "source": [
    "n_binding_sites = 20\n",
    "binding_sites = np.arange(1,n_binding_sites+1,1.)\n",
    "dist_ratio = ratio_at_dist(binding_sites,onleft=1,kon1=1,kon2=1,Lp=17)\n",
    "p_switch = dist_ratio/(1+dist_ratio)\n",
    "\n",
    "myfig = figure(figsize=(1.6,1.5))\n",
    "ax = plt.gca()\n",
    "plot(binding_sites,p_switch,marker='o')\n",
    "ylabel(\"$\\mu_{on}^{diff}/(\\mu_{on}+\\mu_{on}^{diff})$\",labelpad=1)\n",
    "xlabel('$l_g$ (sites)',labelpad=1)\n",
    "xlim(0,20)\n",
    "xticks(np.arange(0,25,5))\n",
    "ax.set_yticks(np.arange(0,1,.5),minor=False)\n",
    "ax.set_yticks(np.arange(0,0.6,.1),minor=True)\n",
    "\n",
    "tight_layout()\n",
    "if outdir is not None: savefig(os.path.join(outdir,'on_rate_ratio.pdf'), transparent='true')"
   ]
  },
  {
   "cell_type": "code",
   "execution_count": 6,
   "metadata": {},
   "outputs": [
    {
     "name": "stdout",
     "output_type": "stream",
     "text": [
      "Running until length reaches 15.000000 microns / 428 sites\n",
      "starting with type 1\n"
     ]
    },
    {
     "data": {
      "text/plain": [
       "(0.005847953216374269,\n",
       " 0.0,\n",
       " array([ 3325., 11865.]),\n",
       " array([1, 2]),\n",
       " array([1.04598417e+01, 5.31981003e+00, 2.34782857e+00, 9.82558064e-01,\n",
       "        4.39124079e+00, 3.48397340e+00, 2.24731117e+00, 3.93795047e-01,\n",
       "        5.34144779e+00, 5.09252348e-01, 9.06773331e-01, 3.00858845e+00,\n",
       "        4.03016747e+00, 4.37215824e+00, 3.91500236e+00, 2.04529842e+00,\n",
       "        9.77345132e-02, 2.86476546e+00, 1.22959698e-01, 2.38956679e+00,\n",
       "        3.83067616e+00, 2.46737129e+00, 5.31803351e+00, 2.08497162e-01,\n",
       "        3.42272243e+00, 5.28486574e-01, 3.74307294e+00, 2.47724671e+00,\n",
       "        2.37359351e+00, 1.59959185e+00, 1.45896733e+00, 3.82010693e+00,\n",
       "        4.12614870e+00, 6.65910408e+00, 7.84394023e-01, 3.17162456e+00,\n",
       "        2.90374093e+00, 7.24620405e-01, 2.25019489e+00, 1.68234037e+00,\n",
       "        1.00518165e+00, 1.97551930e+00, 3.36072857e+00, 2.85784786e+00,\n",
       "        7.33191796e-01, 8.57472746e-01, 6.69786910e-01, 8.48291424e-01,\n",
       "        1.86574363e+00, 8.04625857e-01, 4.45658684e+00, 7.42398850e-01,\n",
       "        5.98907500e+00, 2.37127912e+00, 4.20750523e+00, 5.80562280e-01,\n",
       "        4.92412464e+00, 5.82074148e-01, 5.78651958e-01, 2.71933598e+00,\n",
       "        2.29089492e+00, 1.35812819e+00, 1.20995848e+00, 3.49299392e+00,\n",
       "        2.21277429e-01, 9.98653480e-01, 1.50034857e+00, 1.18518976e+00,\n",
       "        8.00718296e-01, 3.55885038e+00, 1.68241448e+00, 4.55954391e-01,\n",
       "        3.20070892e-02, 3.25532947e+00, 2.31921163e+00, 7.13417197e-01,\n",
       "        4.33138912e+00, 3.64258387e-01, 1.14366395e+00, 1.13371534e+00,\n",
       "        1.88780097e-01, 2.92436601e+00, 1.26277706e+00, 3.46574420e+00,\n",
       "        5.72962675e+00, 4.81243971e+00, 1.13338228e+00, 4.14942063e+00,\n",
       "        3.88688045e-01, 8.04524696e-01, 9.32962504e-03, 5.70616863e-01,\n",
       "        2.81906266e+00, 8.63795957e-02, 1.46972194e+00, 1.14556813e+00,\n",
       "        6.50223250e+00, 3.06386772e+00, 3.13475499e+00, 9.91932088e-01,\n",
       "        1.37823949e+00, 5.21155232e-01, 4.05812065e-01, 6.49967897e-01,\n",
       "        4.21820972e+00, 1.77467650e+00, 2.51203089e+00, 9.82430462e-01,\n",
       "        2.24124989e+00, 3.16736873e+00, 2.49023703e+00, 3.08276393e+00,\n",
       "        1.64416250e-01, 1.18692523e+00, 1.15550333e+00, 1.24754933e+00,\n",
       "        2.17832137e+00, 4.06224722e+00, 1.00355140e+00, 9.60855365e-01,\n",
       "        4.59783297e+00, 2.18842344e-01, 7.20992103e-01, 2.27927729e-01,\n",
       "        9.12382300e-01, 9.64284845e-01, 1.86337289e+00, 3.51899630e+00,\n",
       "        9.94810191e-01, 3.00681748e+00, 2.49596560e+00, 6.07818883e+00,\n",
       "        2.81061897e+00, 4.96299771e-01, 5.64592398e+00, 3.06078607e+00,\n",
       "        3.33371246e-02, 2.66823224e+00, 2.86388475e+00, 1.20270657e+00,\n",
       "        5.01185306e-01, 4.57736556e+00, 1.88988285e+00, 3.57797057e+00,\n",
       "        3.58119445e+00, 2.63020569e+00, 4.69005854e-01, 1.47817130e-01,\n",
       "        3.36163220e+00, 1.40142997e+00, 2.16270534e+00, 9.49794995e-01,\n",
       "        4.30150656e+00, 1.14566620e+00, 7.80496374e-01, 6.44678439e+00,\n",
       "        1.20629792e+00, 3.82810552e+00, 8.88316601e-01, 2.27069671e+00,\n",
       "        1.30094312e+00, 2.80660769e+00, 7.69075750e-01, 2.19896104e+00,\n",
       "        8.44028905e-01, 1.91545090e+00, 1.40829473e+00, 2.55043419e+00,\n",
       "        8.46421102e-01, 9.34045452e-02, 1.08789033e+00, 3.76306925e+00]),\n",
       " array([0, 0, 0, 0, 0, 0, 0, 0, 0, 0, 0, 0, 0, 0, 0, 0, 0, 0, 0, 0, 0, 0,\n",
       "        0, 0, 0, 0, 0, 0, 0, 0, 0, 0, 0, 1, 0, 0, 0, 0, 0, 0, 0, 0, 0, 0,\n",
       "        0, 0, 0, 0, 0, 0, 0, 0, 0, 0, 0, 0, 0, 0, 0, 0, 0, 0, 0, 0, 0, 0,\n",
       "        0, 0, 0, 0, 0, 0, 0, 0, 0, 0, 0, 0, 0, 0, 0, 0, 0, 0, 0, 0, 0, 0,\n",
       "        0, 0, 0, 0, 0, 0, 0, 0, 0, 0, 0, 0, 0, 0, 0, 0, 0, 0, 0, 0, 0, 0,\n",
       "        0, 0, 0, 0, 0, 0, 0, 0, 0, 0, 0, 0, 0, 0, 0, 0, 0, 0, 0, 0, 0, 0,\n",
       "        0, 0, 0, 0, 0, 0, 0, 0, 0, 0, 0, 0, 0, 0, 0, 0, 0, 0, 0, 0, 0, 0,\n",
       "        0, 0, 0, 0, 0, 0, 0, 0, 0, 0, 0, 0, 0, 0, 0, 0, 0, 0]),\n",
       " array([1, 3, 1, 6, 6, 2, 1, 1, 2, 2, 5, 3, 5, 2, 2, 1, 2, 1, 3, 2, 1, 1,\n",
       "        1, 6, 3, 2, 1, 3, 3, 6, 1, 4, 3, 9, 3, 5, 6, 1, 3, 2, 2, 1, 6, 1,\n",
       "        4, 2, 2, 1, 4, 2, 1, 7, 3, 3, 1, 1, 5, 1, 1, 2, 2, 3, 1, 1, 5, 3,\n",
       "        2, 2, 2, 2, 1, 1, 2, 4, 1, 2, 2, 1, 1, 5, 2, 3, 2, 1, 6, 3, 5, 2,\n",
       "        1, 1, 1, 1, 2, 1, 1, 8, 2, 3, 6, 1, 1, 2, 1, 1, 2, 7, 1, 4, 2, 4,\n",
       "        2, 3, 4, 1, 2, 1, 2, 3, 2, 1, 4, 2, 1, 1, 2, 1, 4, 4, 1, 4, 3, 1,\n",
       "        3, 4, 1, 1, 4, 3, 1, 1, 3, 3, 3, 2, 1, 3, 1, 2, 4, 1, 1, 4, 2, 2,\n",
       "        8, 4, 2, 2, 1, 3, 1, 3, 3, 2, 4, 1, 1, 4, 1, 2, 2, 3]),\n",
       " [(array([   3.34613094,   19.73754691,   14.90739164,  213.72782717,\n",
       "            47.82247435,   20.09200186,   15.57416727,   88.87872075,\n",
       "            13.10506117,  137.45641103,  192.99200143,   34.90008749,\n",
       "            43.42251311,   16.01039948,   17.87993814,   17.11241724,\n",
       "           716.22600562,   12.21740507,  853.93833431,   29.29401275,\n",
       "             9.13676816,   14.18513707,    6.58138012, 1007.20795509,\n",
       "            30.67733421,  132.453696  ,    9.35060591,   42.38576633,\n",
       "            44.23672351,  131.28348951,   23.98957073,   36.64818877,\n",
       "            25.44745904]),\n",
       "   array([  47.30366069,  133.86129538,   55.17677043,   72.32050137,\n",
       "            48.30115152,   46.66262477,   41.60870255,   69.63915411,\n",
       "            17.71686058,   62.48645071,   12.24697805,  190.94594464,\n",
       "            81.63524765,  104.51085105,   41.2594057 ,   75.0371045 ,\n",
       "            86.99695567,    7.85354381,  330.01128721,   17.5319227 ,\n",
       "            44.27989905,    8.31846856,   60.28638309,   35.53931159,\n",
       "            60.12979635,   60.48540839,   25.74157826,   30.55574453,\n",
       "            77.31228984,   28.92661253,   10.02005751,  790.86240734,\n",
       "           105.14157526,   46.65582491,   59.06227208,   87.42150691,\n",
       "            19.66927311,   20.80343481,   76.76206361, 2187.01549395,\n",
       "            43.00639964,   15.09133518,   98.1193056 ,   16.16109708,\n",
       "            96.08563929,   30.60339522,  154.35973529,  370.80180122,\n",
       "            35.90521831,   55.43337966,   10.0988411 ,   36.65160213,\n",
       "            21.81845515,  154.40509646,   16.86982502,   90.04650514,\n",
       "            43.50394736, 3751.49053284,   61.33712872,   24.83094861,\n",
       "           405.1882821 ,   23.81402842,  244.42020664,   10.76553323,\n",
       "            34.27040903,   66.99088158,   35.28467366,   25.39471577,\n",
       "           134.316986  ,   86.24681971,   53.84881337,   16.59471783,\n",
       "           138.05332933,   13.93294971,  142.50372462,   31.2325726 ,\n",
       "            44.20072678,   28.10977398,   34.06034402,  851.49734313,\n",
       "            29.4879569 ,   60.57966119,   28.05500293,   32.13483596,\n",
       "            25.84776219,   69.75228207,   36.42587769,   30.44912702,\n",
       "           319.86497141,   48.54422104,  153.55744645,   76.72222484,\n",
       "            36.29632901,   75.13257335,   39.78407139,   35.18259091,\n",
       "            46.56085749,   42.06788752,    5.75829429,   37.35831894,\n",
       "           282.08757708,    6.19916246,   11.43497102, 4199.52235075,\n",
       "            39.35189691,   12.22116219,   29.10103013,  209.50334867,\n",
       "            22.93895879,   55.55899928,   19.56416314,    9.77327551,\n",
       "            39.92083219,   74.62593416,  473.55810469,   41.64643586,\n",
       "            24.97449093,   16.18343441,  147.40022926,   16.2733682 ,\n",
       "            61.09982112,  358.74606147,   21.71625286,   58.02878301,\n",
       "            18.28580735,   39.40036689,   46.2413142 ,   26.90355903,\n",
       "            37.41171248,  136.52751363,   31.83321518,  165.87109654,\n",
       "            18.27246003,   24.85275228,   54.89261425,   41.35057588,\n",
       "           749.42819819,   64.34472124,   27.90275519]))])"
      ]
     },
     "execution_count": 6,
     "metadata": {},
     "output_type": "execute_result"
    },
    {
     "data": {
      "image/png": "[encoded data removed]",
      "text/plain": [
       "<Figure size 432x288 with 1 Axes>"
      ]
     },
     "metadata": {
      "needs_background": "light"
     },
     "output_type": "display_data"
    }
   ],
   "source": [
    "def rates(n_rate_sites,onleft,kon1,kon2,Lp):\n",
    "    rate_list = []\n",
    "    for i in range(1,n_rate_sites+1):\n",
    "        p_diff = ratio_at_dist(i,onleft,kon1,kon2,Lp)\n",
    "        if onleft==1:\n",
    "            rate_list.append(kon1)\n",
    "            rate_list.append(p_diff*kon1)\n",
    "        elif onleft==2:\n",
    "            rate_list.append(p_diff*kon2)\n",
    "            rate_list.append(kon2)\n",
    "        else:\n",
    "            assert onleft in (1,2),\"on_left is not either 1 or 2\"\n",
    "    return np.array(rate_list)\n",
    "\n",
    "#extension rate is in nm/second\n",
    "#max length in nm\n",
    "def extension_population_ratio(num_trials=1,max_filament_length=15000,extension_rate=10, kon1=0.1,kon2=0.1, \n",
    "                               showplot=False,Lp=17,n_sites_init=0,max_extensions=200):\n",
    "    \n",
    "    site_extension_rate = float(extension_rate)/site_width\n",
    "    assert extension_rate>0,\"bundle has to be growing\"\n",
    "    max_n_sites = int(max_filament_length/site_width)\n",
    "    print(\"Running until length reaches %f microns / %i sites\"%(max_filament_length/1000,max_n_sites))\n",
    "\n",
    "    # n_rate_sites is the distance out to which to compute a rate\n",
    "    n_rate_sites = max_extensions+1\n",
    "    \n",
    "    #1 list for 1 on right, another for 2 on right\n",
    "    rate_list = [rates(n_rate_sites,onleft=1,kon1=kon1,kon2=kon2,Lp=Lp), \n",
    "                rates(n_rate_sites,onleft=2,kon1=kon1,kon2=kon2,Lp=Lp)]\n",
    "    \n",
    "    prob_type_1 = kon1/(kon1+kon2)\n",
    "    n_keep_list = np.zeros(num_trials)\n",
    "    n_swap_list = np.zeros(num_trials)\n",
    "    domain_length_list = []\n",
    "    domain_type_list = []\n",
    "    all_swap_list = []\n",
    "    all_types_chosen = []\n",
    "    all_bundle_extension_rates = []\n",
    "\n",
    "    \n",
    "    nsites_needed = []\n",
    "    times_chosen = []\n",
    "    sites_chosen = []\n",
    "    events_chosen = []\n",
    "    \n",
    "        \n",
    "    for i in range(num_trials):\n",
    "        current_site = 0\n",
    "        filament_length = 0\n",
    "\n",
    "        occupation_lattice = np.zeros(max_n_sites,dtype=int)\n",
    "        current_type = 1+(np.random.random()>prob_type_1)\n",
    "        occupation_lattice[current_site] = current_type\n",
    "        \n",
    "        if showplot: print(\"starting with type\",current_type)\n",
    "        t = 0\n",
    "        \n",
    "        filament_lengths = []\n",
    "        swap_list = []\n",
    "        types_chosen = []\n",
    "        bundle_extension_rates = []\n",
    "\n",
    "        n_sites_away = n_sites_init\n",
    "        \n",
    "        while(filament_length<max_filament_length):\n",
    "            unbound = True\n",
    "            prev_t = t\n",
    "            sites_added = 0\n",
    "            while unbound and n_sites_away < max_extensions:\n",
    "                tmp_rate_list = np.append(rate_list[current_type-1][:2*n_sites_away],site_extension_rate)\n",
    "                #if t<100: print(tmp_rate_list)\n",
    "                tmp_cum_rate = tmp_rate_list.cumsum()\n",
    "                r1,r2 = np.random.random(size=2)\n",
    "                event_chosen = np.searchsorted(tmp_cum_rate, r1*tmp_cum_rate[-1])\n",
    "                t = t - np.log(r2)/tmp_cum_rate[-1]\n",
    "                if event_chosen == len(tmp_rate_list)-1:  \n",
    "                    sites_added += 1\n",
    "                    n_sites_away += 1\n",
    "                    filament_length += site_width\n",
    "                else:\n",
    "                    unbound = False\n",
    "                assert n_sites_away < max_extensions, \"error, max extensions reached\"\n",
    "\n",
    "            events_chosen.append(event_chosen)\n",
    "            times_chosen.append(t-prev_t)\n",
    "            nsites_needed.append(sites_added)\n",
    "               \n",
    "            sites_chosen.append((event_chosen//2)+1)\n",
    "            types_chosen.append((event_chosen%2)+1)\n",
    "            current_site += sites_chosen[-1]\n",
    "            n_sites_away = n_sites_away - sites_chosen[-1]\n",
    "            \n",
    "            bundle_extension_rates.append(sites_chosen[-1]*site_width/times_chosen[-1])\n",
    "\n",
    "            if current_site < len(occupation_lattice):\n",
    "                occupation_lattice[current_site] = types_chosen[-1]\n",
    "            swap_list.append(int(current_type!=types_chosen[-1]))\n",
    "            current_type = types_chosen[-1]\n",
    "            filament_lengths.append(filament_length)\n",
    "            \n",
    "        \n",
    "        swap_array = np.array(swap_list)\n",
    "        if np.sum(swap_array)>0:\n",
    "            filament_length_at_swap_array = np.array(filament_lengths)[swap_array==1]\n",
    "            #have to add in edge domains\n",
    "            domain_lengths = np.insert( filament_length_at_swap_array[1:]-filament_length_at_swap_array[:-1],0,filament_length_at_swap_array[0])\n",
    "            domain_lengths = np.insert( domain_lengths,len(domain_lengths),filament_lengths[-1]-filament_length_at_swap_array[-1])\n",
    "            domain_types = np.insert( np.array(types_chosen)[swap_array==1], 0, occupation_lattice[0] )\n",
    "        else:\n",
    "            domain_lengths = [filament_length]\n",
    "            domain_types = [occupation_lattice[0]]\n",
    "        domain_length_list.extend(domain_lengths)\n",
    "        domain_type_list.extend(domain_types)            \n",
    "        \n",
    "        if showplot is True:\n",
    "            figure()\n",
    "            #plot(occupation_lattice,marker='o',linestyle='')\n",
    "            plot(types_chosen,marker='o',linestyle='')\n",
    "            ylim(0,2.1)\n",
    "        n_keep_list[i]=(swap_array==0).sum()\n",
    "        n_swap_list[i]=(swap_array==1).sum()\n",
    "        all_swap_list.extend(swap_list)\n",
    "        \n",
    "        types_chosen = np.array(types_chosen)\n",
    "        all_types_chosen.extend(types_chosen)\n",
    "        all_bundle_extension_rates.append(\n",
    "            (np.array(bundle_extension_rates)[types_chosen==1],\n",
    "             np.array(bundle_extension_rates)[types_chosen==2])\n",
    "        )\n",
    "\n",
    "    swap_ratio = np.mean(n_swap_list/n_keep_list)\n",
    "    swap_ratio_std = np.std(n_swap_list/n_keep_list)\n",
    "    return swap_ratio,swap_ratio_std,np.array(domain_length_list),np.array(domain_type_list), \\\n",
    "               np.array(times_chosen),np.array(all_swap_list),np.array(sites_chosen),all_bundle_extension_rates\n",
    "                    \n",
    "\n",
    "\n",
    "extension_population_ratio(num_trials=1,kon1=.2,kon2=.2,extension_rate=40,showplot=True)\n",
    "    "
   ]
  },
  {
   "cell_type": "code",
   "execution_count": 7,
   "metadata": {},
   "outputs": [
    {
     "name": "stdout",
     "output_type": "stream",
     "text": [
      "Running until length reaches 15.000000 microns / 428 sites\n"
     ]
    },
    {
     "data": {
      "image/png": "[encoded data removed]",
      "text/plain": [
       "<Figure size 252x144 with 2 Axes>"
      ]
     },
     "metadata": {
      "needs_background": "light"
     },
     "output_type": "display_data"
    },
    {
     "data": {
      "image/png": "[encoded data removed]",
      "text/plain": [
       "<Figure size 252x144 with 1 Axes>"
      ]
     },
     "metadata": {
      "needs_background": "light"
     },
     "output_type": "display_data"
    }
   ],
   "source": [
    "#bin average\n",
    "def ba(bins):\n",
    "    return (bins[1:]+bins[:-1])/2.0\n",
    "\n",
    "fig, ax = subplots(1,2,figsize=(3.5,2),sharey=False)\n",
    "extension_rate = 40.\n",
    "ratio, ratio_std, _,_, times_chosen, event_type_chosen, sites_chosen, all_bundle_extension_rates = extension_population_ratio(num_trials=1000,kon1=0.2,kon2=0.2,\n",
    "                                                                            extension_rate=extension_rate,showplot=False)\n",
    "num_trials = len(sites_chosen)\n",
    "\n",
    "time_hist_same, time_bins_same = np.histogram(times_chosen[event_type_chosen==0],density=True,bins=30)\n",
    "time_hist_diff, time_bins_diff = np.histogram(times_chosen[event_type_chosen==1],density=True,bins=30)\n",
    "\n",
    "\n",
    "ax[0].plot(ba(time_bins_same),time_hist_same,label='same',lw=2)\n",
    "ax[0].plot(ba(time_bins_diff),time_hist_diff,label='diff',lw=2)\n",
    "ax[0].set_ylim(0,0.4)\n",
    "\n",
    "ax[0].set_ylabel('P($t$)',labelpad=0)\n",
    "ax[0].set_xlabel('$t$ (s)',labelpad=0)\n",
    "ax[0].set_xlim(0,17)\n",
    "ax[0].set_xticks(np.arange(0,19,5))\n",
    "ax[0].set_yticks(np.arange(0,0.35,.1))\n",
    "\n",
    "\n",
    "ax[0].legend(loc=0,fontsize=10,handletextpad=0.1)\n",
    "\n",
    "   \n",
    "same_hist, same_bins = np.histogram( sites_chosen[event_type_chosen==0], density=False, bins=binding_sites )\n",
    "diff_hist, diff_bins = np.histogram( sites_chosen[event_type_chosen==1], density=False, bins=binding_sites )\n",
    "\n",
    "ax[1].plot(ba(same_bins), same_hist/float(num_trials), label='same',lw=2)\n",
    "ax[1].plot(ba(diff_bins), diff_hist/float(num_trials), label='diff',lw=2)\n",
    "\n",
    "\n",
    "ax[1].set_xlabel('site',labelpad=0)\n",
    "ax[1].set_ylabel('P(site)',labelpad=2)\n",
    "\n",
    "ax[1].yaxis.set_label_position(\"right\")\n",
    "ax[1].yaxis.tick_right()\n",
    "ax[1].set_ylim(0,0.2)\n",
    "\n",
    "ax[1].set_yticks(np.arange(0,0.25,0.1))\n",
    "ax[1].set_xticks(np.arange(0,25,5))\n",
    "\n",
    "ax[1].annotate('$\\\\frac{N_{diff}}{N_{same}}$=%.3f'%ratio,xy=(7,0.15),fontsize=10)\n",
    "ax[1].annotate('$\\epsilon$=%.1f'%-log(ratio),xy=(7.5,0.1),fontsize=10)\n",
    "tight_layout()\n",
    "fig.subplots_adjust(hspace=0,wspace=0)\n",
    "\n",
    "if outdir is not None:  savefig(os.path.join(outdir,'example_pbind_mugrow40_kon0.2.pdf'),transparent='true')\n",
    "\n",
    "plt.figure(figsize=(3.5,2))\n",
    "#this is a slight approximation, since the times for extending ignore insertions into already formed gaps\n",
    "type_A_extension_rates = np.concatenate([ x[0][np.nonzero(x[0])] for x in all_bundle_extension_rates])\n",
    "type_B_extension_rates = np.concatenate([ x[1][np.nonzero(x[1])] for x in all_bundle_extension_rates])\n",
    "time_bins = np.arange(0,250,5)\n",
    "A_extension_hist, _ = np.histogram( type_A_extension_rates, density=True, bins=time_bins)\n",
    "B_extension_hist, _ = np.histogram( type_B_extension_rates, density=True, bins=time_bins)\n",
    "plt.plot(ba(time_bins),A_extension_hist,color='red',label='Type A')\n",
    "plt.plot(ba(time_bins),B_extension_hist,color='cyan',label='Type B')\n",
    "plt.axvline(extension_rate,label='$\\\\mu_\\mathrm{grow}$',color='k',linestyle='--')\n",
    "plt.xlabel('Bundle extension rate (nm/s) ($\\\\mu_\\mathrm{bund}$)')\n",
    "plt.ylabel('P($\\\\mu_\\mathrm{bund}$)')\n",
    "ax=plt.gca()\n",
    "ax.set_yticks(np.arange(0,0.025,.01))\n",
    "ax.set_yticks(np.arange(0,.025,0.005),minor=True)\n",
    "plt.legend(loc=0,fontsize=10,handletextpad=0.1)\n",
    "plt.tight_layout()\n",
    "if outdir is not None:  savefig(os.path.join(outdir,'example_bundle_extension_mugrow40_kon0.2.pdf'),transparent='true')\n"
   ]
  },
  {
   "cell_type": "code",
   "execution_count": 9,
   "metadata": {},
   "outputs": [
    {
     "name": "stdout",
     "output_type": "stream",
     "text": [
      "Running until length reaches 15.000000 microns / 428 sites\n",
      "Running until length reaches 15.000000 microns / 428 sites\n",
      "Running until length reaches 15.000000 microns / 428 sites\n",
      "Running until length reaches 15.000000 microns / 428 sites\n",
      "Running until length reaches 15.000000 microns / 428 sites\n"
     ]
    },
    {
     "name": "stderr",
     "output_type": "stream",
     "text": [
      "/anaconda3/envs/ml/lib/python3.7/site-packages/ipykernel_launcher.py:19: RuntimeWarning: divide by zero encountered in log\n"
     ]
    },
    {
     "name": "stdout",
     "output_type": "stream",
     "text": [
      "Running until length reaches 15.000000 microns / 428 sites\n",
      "Running until length reaches 15.000000 microns / 428 sites\n",
      "Running until length reaches 15.000000 microns / 428 sites\n",
      "Running until length reaches 15.000000 microns / 428 sites\n",
      "Running until length reaches 15.000000 microns / 428 sites\n",
      "Running until length reaches 15.000000 microns / 428 sites\n",
      "Running until length reaches 15.000000 microns / 428 sites\n",
      "Running until length reaches 15.000000 microns / 428 sites\n",
      "Running until length reaches 15.000000 microns / 428 sites\n",
      "Running until length reaches 15.000000 microns / 428 sites\n",
      "Running until length reaches 15.000000 microns / 428 sites\n",
      "Running until length reaches 15.000000 microns / 428 sites\n",
      "Running until length reaches 15.000000 microns / 428 sites\n",
      "Running until length reaches 15.000000 microns / 428 sites\n",
      "Running until length reaches 15.000000 microns / 428 sites\n",
      "Running until length reaches 15.000000 microns / 428 sites\n",
      "Running until length reaches 15.000000 microns / 428 sites\n",
      "Running until length reaches 15.000000 microns / 428 sites\n",
      "Running until length reaches 15.000000 microns / 428 sites\n",
      "Running until length reaches 15.000000 microns / 428 sites\n",
      "Running until length reaches 15.000000 microns / 428 sites\n",
      "Running until length reaches 15.000000 microns / 428 sites\n",
      "Running until length reaches 15.000000 microns / 428 sites\n",
      "Running until length reaches 15.000000 microns / 428 sites\n",
      "Running until length reaches 15.000000 microns / 428 sites\n",
      "Running until length reaches 15.000000 microns / 428 sites\n",
      "Running until length reaches 15.000000 microns / 428 sites\n",
      "Running until length reaches 15.000000 microns / 428 sites\n",
      "Running until length reaches 15.000000 microns / 428 sites\n",
      "Running until length reaches 15.000000 microns / 428 sites\n",
      "Running until length reaches 15.000000 microns / 428 sites\n",
      "Running until length reaches 15.000000 microns / 428 sites\n",
      "Running until length reaches 15.000000 microns / 428 sites\n",
      "Running until length reaches 15.000000 microns / 428 sites\n",
      "Running until length reaches 15.000000 microns / 428 sites\n",
      "Running until length reaches 15.000000 microns / 428 sites\n",
      "Running until length reaches 15.000000 microns / 428 sites\n"
     ]
    },
    {
     "data": {
      "text/plain": [
       "(0, 0.1)"
      ]
     },
     "execution_count": 9,
     "metadata": {},
     "output_type": "execute_result"
    },
    {
     "data": {
      "image/png": "[encoded data removed]",
      "text/plain": [
       "<Figure size 288x216 with 1 Axes>"
      ]
     },
     "metadata": {
      "needs_background": "light"
     },
     "output_type": "display_data"
    }
   ],
   "source": [
    "extension_rates = (5.0,10.,20.,30.,40.,50.,100.)\n",
    "kons = (0.02,0.05,0.1,0.2,0.5,1.0)\n",
    "my_num_trials=10\n",
    "all_energies = []\n",
    "#all_times = []\n",
    "figure(figsize=(4,3))\n",
    "for extension_rate in extension_rates:\n",
    "    ratios = []\n",
    "    ratio_stds =[]\n",
    "    energies = []\n",
    "    #times = []\n",
    "    for kon in kons:\n",
    "        #ratio, ratio_std, times,types,sites = extension_population_ratio(extension_rate=extension_rate,\n",
    "        #                                                           kon=kon,num_trials=50000)\n",
    "        ratio, ratio_std,_,_,_,_,_,_ = extension_population_ratio(num_trials=my_num_trials,extension_rate=extension_rate,\n",
    "                                                                   kon1=kon,kon2=kon)\n",
    "        ratios.append(ratio)\n",
    "        ratio_stds.append(ratio_std)\n",
    "        energies.append(-np.log(ratio))\n",
    "    #plot(kons,energies,label=\"v_pol=%.2f\"%extension_rate)\n",
    "    myplt = plot(kons,ratios,lw=2,label=\"$\\\\mu_\\mathrm{grow}$=%.f\"%extension_rate)\n",
    "    errorbar(kons,ratios,ratio_std,lw=2,c=myplt[0].get_c())\n",
    "\n",
    "    all_energies.append(energies)\n",
    "    #all_times.append(times)\n",
    "\n",
    "ylabel(\"$N_{diff}/N_{same}$\")\n",
    "xlabel('$k_{on}$')\n",
    "legend(loc=0,fontsize=12)\n",
    "ylim(0,0.1)"
   ]
  },
  {
   "cell_type": "code",
   "execution_count": 10,
   "metadata": {},
   "outputs": [
    {
     "data": {
      "image/png": "[encoded data removed]",
      "text/plain": [
       "<Figure size 252x180 with 1 Axes>"
      ]
     },
     "metadata": {
      "needs_background": "light"
     },
     "output_type": "display_data"
    }
   ],
   "source": [
    "#also, think about what times mean here more\n",
    "figure(figsize=(3.5,2.5))\n",
    "#remember, v_pol in nm per second\n",
    "for idx, extension_rate in enumerate(extension_rates):\n",
    "    if idx == 0: \n",
    "        labelstring=\"%.f nm/s\"\n",
    "    else:\n",
    "        labelstring=\"%.f\"\n",
    "    plot(extension_rate/np.array(kons)/site_width, all_energies[idx],\n",
    "         label=labelstring%extension_rate,marker='o')\n",
    "\n",
    "xlabel('$\\\\mu_\\mathrm{grow} (\\\\mathrm{sites}/\\\\mathrm{s}) /\\\\mu_\\\\mathrm{on} {\\\\rm (1/s)}$',labelpad=1)\n",
    "\n",
    "\n",
    "legend(fontsize=9,handletextpad=0.1,numpoints=1,ncol=2,framealpha=1,bbox_to_anchor=(.4, .38))\n",
    "ax=plt.gca()\n",
    "ax.annotate('$\\\\mu_\\mathrm{grow}$',xy=(100,8.4),fontsize=10)\n",
    "\n",
    "xscale('log')\n",
    "xlim(0.5,2000)\n",
    "ylim(0,9)\n",
    "yticks(np.arange(0,10,2))\n",
    "ylabel('$\\epsilon_{\\\\mathrm{predicted}}=-\\mathrm{ln}(N_{\\\\rm diff}/N_{\\\\rm same})$',labelpad=1)\n",
    "axhline(4.8,linestyle='--',color='k')\n",
    "tight_layout()\n",
    "if outdir is not None: savefig(os.path.join(outdir,'epsilon_collapse_voverk.pdf'), transparent='true')"
   ]
  },
  {
   "cell_type": "code",
   "execution_count": 11,
   "metadata": {},
   "outputs": [
    {
     "name": "stdout",
     "output_type": "stream",
     "text": [
      "Running until length reaches 15.000000 microns / 428 sites\n",
      "competition parameter  4.416721440387478\n",
      "Running until length reaches 15.000000 microns / 428 sites\n",
      "competition parameter  4.082388677875137\n",
      "Running until length reaches 15.000000 microns / 428 sites\n",
      "competition parameter  4.100553226740677\n",
      "Running until length reaches 15.000000 microns / 428 sites\n",
      "competition parameter  4.75364180647039\n",
      "Running until length reaches 15.000000 microns / 428 sites\n",
      "competition parameter  5.30529053206129\n",
      "Running until length reaches 15.000000 microns / 428 sites\n",
      "competition parameter  5.785567475057708\n"
     ]
    },
    {
     "data": {
      "image/png": "[encoded data removed]",
      "text/plain": [
       "<Figure size 432x288 with 1 Axes>"
      ]
     },
     "metadata": {
      "needs_background": "light"
     },
     "output_type": "display_data"
    }
   ],
   "source": [
    "mymu = 40.\n",
    "mykon2 = 0.2\n",
    "my_num_trials=1000\n",
    "\n",
    "energies = []\n",
    "avg_domain_lengths = [[],[]]\n",
    "std_domain_lengths = [[],[]]\n",
    "\n",
    "kratio_list = (0.3,0.5,1.0,1.5,2.0,2.5)\n",
    "\n",
    "#winkelman curr biol 2016 paper\n",
    "expt_data_txt = \\\n",
    "\"\"\"0.12500 0.55600 0.25000\n",
    "0.26316 0.58947 0.38900\n",
    "0.31250 2.4000 1.5000\n",
    "0.52632 1.1000 1.3000\n",
    "0.62500 2.6077 0.50000\n",
    "0.78947 1.8579 0.75000\n",
    "1.0526 5.8100 3.0200\n",
    "1.2500 3.4800 1.2500\n",
    "1.5789 6.2250 2.1200\"\"\"\n",
    "expt_data = np.fromstring(expt_data_txt, sep=\" \").reshape((-1,3))\n",
    "\n",
    "for kratio in kratio_list:\n",
    "    ratio, ratio_std,domain_lengths,domain_types,_,_,_,_ = extension_population_ratio(num_trials=my_num_trials,\n",
    "                                                                extension_rate=mymu,\n",
    "                                                                kon1=mykon2*kratio,kon2=mykon2,max_filament_length=15000)\n",
    "    avg_domain_lengths[0].append(domain_lengths[domain_types==1].mean())\n",
    "    avg_domain_lengths[1].append(domain_lengths[domain_types==2].mean())\n",
    "    std_domain_lengths[0].append(jackknife(domain_lengths[domain_types==1]))\n",
    "    std_domain_lengths[1].append(jackknife(domain_lengths[domain_types==2]))\n",
    "    energies.append(-np.log(ratio))\n",
    "    print(\"competition parameter \",energies[-1])\n",
    "\n",
    "plt.figure()\n",
    "plt.errorbar(expt_data[:,0],expt_data[:,1],expt_data[:,2],label=\"Expt\",marker='s',color='k')\n",
    "plt.errorbar(kratio_list,np.array(avg_domain_lengths[0])/1e3,np.array(std_domain_lengths[0])/1e3,label=\"Type A\",marker='o')\n",
    "plt.errorbar(kratio_list,np.array(avg_domain_lengths[1])/1e3,np.array(std_domain_lengths[0])/1e3,label=\"Type B\",marker='o')\n",
    "xlim(0.1,2.75)\n",
    "ylabel('domain length ($\\mu$m)')\n",
    "xlabel('[A]/[B]')\n",
    "ylim(0,12)\n",
    "legend(loc=0)\n",
    "\n",
    "\n",
    "competition_prediction_data = np.array( (kratio_list, avg_domain_lengths[0],std_domain_lengths[0],avg_domain_lengths[1], std_domain_lengths[1]) ).T"
   ]
  },
  {
   "cell_type": "code",
   "execution_count": 12,
   "metadata": {},
   "outputs": [
    {
     "name": "stdout",
     "output_type": "stream",
     "text": [
      "Running until length reaches 15.000000 microns / 428 sites\n",
      "rate: 2.500000 competition: 10.877529\n",
      "Running until length reaches 15.000000 microns / 428 sites\n",
      "rate: 5.000000 competition: 9.293285\n",
      "Running until length reaches 15.000000 microns / 428 sites\n",
      "rate: 10.000000 competition: 7.180276\n",
      "Running until length reaches 15.000000 microns / 428 sites\n",
      "rate: 20.000000 competition: 5.516010\n",
      "Running until length reaches 15.000000 microns / 428 sites\n",
      "rate: 50.000000 competition: 3.748635\n",
      "Running until length reaches 15.000000 microns / 428 sites\n",
      "rate: 100.000000 competition: 2.726504\n"
     ]
    },
    {
     "data": {
      "image/png": "[encoded data removed]",
      "text/plain": [
       "<Figure size 432x288 with 1 Axes>"
      ]
     },
     "metadata": {
      "needs_background": "light"
     },
     "output_type": "display_data"
    }
   ],
   "source": [
    "mymu = 40.\n",
    "mykon2 = 0.2\n",
    "my_num_trials=1000\n",
    "\n",
    "energies = []\n",
    "avg_domain_lengths_mu = [[],[]]\n",
    "std_domain_lengths_mu = [[],[]]\n",
    "\n",
    "kratio = 1.0\n",
    "extension_list = [2.5,5.0,10.0,20.0,50.0,100.0]\n",
    "\n",
    "for extension_rate in extension_list:\n",
    "    ratio, ratio_std,domain_lengths,domain_types,_,_,_,_ = extension_population_ratio(num_trials=my_num_trials,\n",
    "                                                                extension_rate=extension_rate,\n",
    "                                                                kon1=mykon2*kratio,kon2=mykon2,max_filament_length=15000)\n",
    "    avg_domain_lengths_mu[0].append(domain_lengths[domain_types==1].mean())\n",
    "    avg_domain_lengths_mu[1].append(domain_lengths[domain_types==2].mean())\n",
    "    std_domain_lengths_mu[0].append(jackknife(domain_lengths[domain_types==1]))\n",
    "    std_domain_lengths_mu[1].append(jackknife(domain_lengths[domain_types==2]))\n",
    "    energies.append(-np.log(ratio))\n",
    "    print(\"rate: %f competition: %f\"%(extension_rate,energies[-1]))\n",
    "        \n",
    "plt.figure()\n",
    "plt.errorbar(extension_list,np.array(avg_domain_lengths_mu[0])/1e3,np.array(std_domain_lengths_mu[0])/1e3,label=\"Type A\",marker='o')\n",
    "plt.errorbar(extension_list,np.array(avg_domain_lengths_mu[1])/1e3,np.array(std_domain_lengths_mu[0])/1e3,label=\"Type B\",marker='o')\n",
    "ylabel('domain length ($\\mu$m)')\n",
    "xlabel('$\\mu_\\mathrm{grow}$')\n",
    "ylim(0,15)\n",
    "legend(loc=0)\n",
    "\n",
    "\n",
    "competition_prediction_data = np.array( (extension_list, avg_domain_lengths[0],std_domain_lengths[0],avg_domain_lengths[1], std_domain_lengths[1]) ).T"
   ]
  },
  {
   "cell_type": "code",
   "execution_count": 13,
   "metadata": {},
   "outputs": [
    {
     "data": {
      "text/plain": [
       "<matplotlib.legend.Legend at 0x108c569e8>"
      ]
     },
     "execution_count": 13,
     "metadata": {},
     "output_type": "execute_result"
    },
    {
     "data": {
      "image/png": "[encoded data removed]",
      "text/plain": [
       "<Figure size 252x144 with 1 Axes>"
      ]
     },
     "metadata": {
      "needs_background": "light"
     },
     "output_type": "display_data"
    }
   ],
   "source": [
    "plt.figure(figsize=(3.5,2))\n",
    "plt.errorbar(extension_list,np.array(avg_domain_lengths_mu[0])/1e3,np.array(std_domain_lengths_mu[0])/1e3,label=\"fascin\",marker='o')\n",
    "plt.errorbar(extension_list,np.array(avg_domain_lengths_mu[1])/1e3,np.array(std_domain_lengths_mu[0])/1e3,label=\"$\\\\alpha$-actinin\",marker='o')\n",
    "\n",
    "ylabel('domain length ($\\mu$m)')\n",
    "xlabel('$\\mu_\\mathrm{grow}$')\n",
    "\n",
    "ylim(0,15)\n",
    "legend(loc=0)"
   ]
  },
  {
   "cell_type": "code",
   "execution_count": 14,
   "metadata": {},
   "outputs": [
    {
     "data": {
      "image/png": "[encoded data removed]",
      "text/plain": [
       "<Figure size 266.4x144 with 2 Axes>"
      ]
     },
     "metadata": {
      "needs_background": "light"
     },
     "output_type": "display_data"
    }
   ],
   "source": [
    "fig, ax = subplots(1,2,figsize=(3.7,2),sharey=True)\n",
    "\n",
    "ax[0].errorbar(expt_data[:,0],expt_data[:,1],expt_data[:,2],label=\"fascin (expt)\",marker='s',color='k')\n",
    "ax[0].errorbar(kratio_list[:-1],np.array(avg_domain_lengths[0])[:-1]/1e3,np.array(std_domain_lengths[0])[:-1]/1e3,label=\"fascin\",marker='o',color='red')\n",
    "ax[0].errorbar(kratio_list[:-1],np.array(avg_domain_lengths[1])[:-1]/1e3,np.array(std_domain_lengths[0])[:-1]/1e3,label=\"$\\\\alpha$-actinin\",marker='o',color='cyan')\n",
    "ax[0].set_xlim(0.1,2.3)\n",
    "ax[0].set_ylabel('domain length ($\\mu$m)')\n",
    "ax[0].set_xlabel('[fascin]/[$\\\\alpha$-actinin]')\n",
    "ax[0].set_ylim(0,12)\n",
    "\n",
    "ax[1].axhline(-1,label=\"fascin (expt)\",marker='s',color='k')\n",
    "ax[1].errorbar(extension_list,np.array(avg_domain_lengths_mu[0])/1e3,np.array(std_domain_lengths_mu[0])/1e3,label=\"fascin\",marker='o',color='red')\n",
    "ax[1].errorbar(extension_list,np.array(avg_domain_lengths_mu[1])/1e3,np.array(std_domain_lengths_mu[0])/1e3,label=\"$\\\\alpha$-actinin\",marker='o',color='cyan')\n",
    "\n",
    "ax[1].set_xlabel('$\\mu_\\mathrm{grow}$ (nm/s)')\n",
    "ax[1].legend(loc=0,fontsize=8)\n",
    "\n",
    "\n",
    "ax[0].set_xticks(np.arange(0,2.5,1))\n",
    "ax[0].set_xticks(np.arange(0,2.5,.5),minor=True)\n",
    "\n",
    "ax[0].set_yticks(np.arange(0,12,5))\n",
    "ax[0].set_yticks(np.arange(0,12,1),minor=True)\n",
    "\n",
    "ax[1].yaxis.set_label_position(\"right\")\n",
    "\n",
    "ax[1].set_xticks(np.arange(0,120,50))\n",
    "ax[1].set_xticks(np.arange(0,120,10),minor=True)\n",
    "\n",
    "tight_layout()\n",
    "fig.subplots_adjust(hspace=0,wspace=0)\n",
    "\n",
    "if outdir is not None: savefig(os.path.join(outdir,'domain_length_density_and_growth_kon0.2.pdf'),transparent='true')"
   ]
  },
  {
   "cell_type": "code",
   "execution_count": null,
   "metadata": {},
   "outputs": [],
   "source": []
  }
 ],
 "metadata": {
  "anaconda-cloud": {},
  "kernelspec": {
   "display_name": "Python 3",
   "language": "python",
   "name": "python3"
  },
  "language_info": {
   "codemirror_mode": {
    "name": "ipython",
    "version": 3
   },
   "file_extension": ".py",
   "mimetype": "text/x-python",
   "name": "python",
   "nbconvert_exporter": "python",
   "pygments_lexer": "ipython3",
   "version": "3.7.1"
  }
 },
 "nbformat": 4,
 "nbformat_minor": 2
}
